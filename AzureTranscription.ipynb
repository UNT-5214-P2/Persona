{
 "cells": [
  {
   "cell_type": "code",
   "execution_count": null,
   "metadata": {},
   "outputs": [],
   "source": [
    "!pip install azure-cognitiveservices-speech"
   ]
  },
  {
   "cell_type": "code",
   "execution_count": 1,
   "metadata": {},
   "outputs": [],
   "source": [
    "import azure.cognitiveservices.speech as speechsdk\n",
    "import requests\n"
   ]
  },
  {
   "cell_type": "markdown",
   "metadata": {},
   "source": [
    "# setup json to enable diarization\n",
    "\n",
    "\n"
   ]
  },
  {
   "cell_type": "markdown",
   "metadata": {},
   "source": [
    "# note that the image is in local folder"
   ]
  },
  {
   "cell_type": "code",
   "execution_count": 2,
   "metadata": {},
   "outputs": [
    {
     "name": "stdout",
     "output_type": "stream",
     "text": [
      "{\"contentUrls\": [\"http://jesticmanor.ddns.net:8989/images/Bdb001.interaction.wav\"], \"properties\": {\"diarizationEnabled\": 1, \"wordLevelTimestampsEnabled\": 1, \"punctuationMode\": \"DictatedAndAutomatic\", \"profanityFilterMode\": \"Masked\"}, \"locale\": \"en-US\", \"displayName\": \"Transcription of file using default model for en-U\"}\n"
     ]
    }
   ],
   "source": [
    "import json\n",
    "\n",
    "#subscription_key = 'REPLACE_WITH_YOUR_KEY'\n",
    "speech_key, service_region = \"02cfa417714ebdac04845494c91222\", \"centralus\"\n",
    "subscription_key = speech_key\n",
    "\n",
    "data = json.dumps({\n",
    " \"contentUrls\": [\n",
    "   \"http://jesticmanor.ddns.net:8989/images/Bdb001.interaction.wav\",\n",
    " ],\n",
    " \"properties\": {\n",
    "   \"diarizationEnabled\": 1,\n",
    "   \"wordLevelTimestampsEnabled\": 1,\n",
    "   \"punctuationMode\": \"DictatedAndAutomatic\",\n",
    "   \"profanityFilterMode\": \"Masked\"\n",
    " },\n",
    " \"locale\": \"en-US\",\n",
    " \"displayName\": \"Transcription of file using default model for en-U\"\n",
    "})\n",
    "fetch_token_url = 'https://centralus.api.cognitive.microsoft.com/sts/v1.0/issueToken'\n",
    "params = json.dumps({'visualFeatures': 'Categories,Description,Color'})\n",
    "\n",
    "\n",
    "print(data)"
   ]
  },
  {
   "cell_type": "code",
   "execution_count": 3,
   "metadata": {},
   "outputs": [],
   "source": [
    "headers = {'Ocp-Apim-Subscription-Key': subscription_key}\n",
    " #   params = {'visualFeatures': 'Categories,Description,Color'}\n",
    " #   data = {'url': image_url}\n",
    "response = requests.post(fetch_token_url, headers=headers, params=params, json=data)"
   ]
  },
  {
   "cell_type": "code",
   "execution_count": 4,
   "metadata": {
    "scrolled": true
   },
   "outputs": [
    {
     "name": "stdout",
     "output_type": "stream",
     "text": [
      "eyJhbGciOiJodHRwOi8vd3d3LnczLm9yZy8yMDAxLzA0L3htbGRzaWctbW9yZSNobWFjLXNoYTI1NiIsInR5cCI6IkpXVCJ9.eyJyZWdpb24iOiJjZW50cmFsdXMiLCJzdWJzY3JpcHRpb24taWQiOiIwMzhjZjQ5ZWRkZmI0YTMwYWMwNThlMzM2MDYyMzVhNyIsInByb2R1Y3QtaWQiOiJTcGVlY2hTZXJ2aWNlcy5GMCIsImNvZ25pdGl2ZS1zZXJ2aWNlcy1lbmRwb2ludCI6Imh0dHBzOi8vYXBpLmNvZ25pdGl2ZS5taWNyb3NvZnQuY29tL2ludGVybmFsL3YxLjAvIiwiYXp1cmUtcmVzb3VyY2UtaWQiOiIvc3Vic2NyaXB0aW9ucy8zNjAyMDMwOC0wMTZhLTQ1NGEtOTk4ZS00MGJlMDI4M2ZhNjUvcmVzb3VyY2VHcm91cHMvZmF1c2FrdmlzaW9ucmVzb3VyY2UvcHJvdmlkZXJzL01pY3Jvc29mdC5Db2duaXRpdmVTZXJ2aWNlcy9hY2NvdW50cy9DUzUyMTRBdWRpb1Rlc3QiLCJzY29wZSI6InNwZWVjaHNlcnZpY2VzIiwiYXVkIjoidXJuOm1zLnNwZWVjaHNlcnZpY2VzLmNlbnRyYWx1cyIsImV4cCI6MTYwMjczODQ2NiwiaXNzIjoidXJuOm1zLmNvZ25pdGl2ZXNlcnZpY2VzIn0.MEBzzFHEYNJ0CdiDTGRVE2GGfdqZOfjKhj7qUkaXEjo\n"
     ]
    }
   ],
   "source": [
    "access_token = str(response.text)\n",
    "print(access_token)"
   ]
  },
  {
   "cell_type": "code",
   "execution_count": 5,
   "metadata": {},
   "outputs": [],
   "source": [
    "# Request module must be installed.\n",
    "# Run pip install requests if necessary.\n",
    "\n",
    "\n",
    "#subscription_key = 'REPLACE_WITH_YOUR_KEY'\n",
    "speech_key, service_region = \"02cfa4107714ebdac04845494c91222\", \"centralus\"\n",
    "subscription_key = speech_key\n",
    "\n",
    "def get_token(subscription_key):\n",
    "    fetch_token_url = 'https://centralus.api.cognitive.microsoft.com/sts/v1.0/issueToken'\n",
    "    headers = {\n",
    "        'Ocp-Apim-Subscription-Key': speech_key\n",
    "    }\n",
    "    response = requests.post(fetch_token_url, headers=headers, params=parms, json=data)\n",
    "    access_token = str(response.text)\n",
    "    print(access_token)"
   ]
  },
  {
   "cell_type": "code",
   "execution_count": 6,
   "metadata": {},
   "outputs": [],
   "source": [
    "speech_config = speechsdk.SpeechConfig(subscription=speech_key, region=service_region)"
   ]
  },
  {
   "cell_type": "code",
   "execution_count": null,
   "metadata": {},
   "outputs": [],
   "source": []
  },
  {
   "cell_type": "code",
   "execution_count": 7,
   "metadata": {},
   "outputs": [],
   "source": [
    "speech_recognizer = speechsdk.SpeechRecognizer(speech_config=speech_config)"
   ]
  },
  {
   "cell_type": "code",
   "execution_count": 8,
   "metadata": {},
   "outputs": [],
   "source": [
    "audio_input = speechsdk.AudioConfig(filename=\"interaction1.wav\")\n",
    "speech_recognizer = speechsdk.SpeechRecognizer(speech_config=speech_config, audio_config=audio_input)\n"
   ]
  },
  {
   "cell_type": "code",
   "execution_count": 9,
   "metadata": {},
   "outputs": [],
   "source": [
    "result = speech_recognizer.recognize_once()\n",
    "#result = speech_recognizer.recognize_once_async()\n"
   ]
  },
  {
   "cell_type": "code",
   "execution_count": 10,
   "metadata": {},
   "outputs": [
    {
     "name": "stdout",
     "output_type": "stream",
     "text": [
      "Recognized: Yeah, we had a long discussion about how much how easy we want to make it for people to believe things out so.\n"
     ]
    }
   ],
   "source": [
    "if result.reason == speechsdk.ResultReason.RecognizedSpeech:\n",
    "    print(\"Recognized: {}\".format(result.text))\n",
    "elif result.reason == speechsdk.ResultReason.NoMatch:\n",
    "    print(\"No speech could be recognized: {}\".format(result.no_match_details))\n",
    "elif result.reason == speechsdk.ResultReason.Canceled:\n",
    "    cancellation_details = result.cancellation_details\n",
    "    print(\"Speech Recognition canceled: {}\".format(cancellation_details.reason))\n",
    "    if cancellation_details.reason == speechsdk.CancellationReason.Error:\n",
    "        print(\"Error details: {}\".format(cancellation_details.error_details))"
   ]
  },
  {
   "cell_type": "code",
   "execution_count": null,
   "metadata": {},
   "outputs": [],
   "source": [
    "\n"
   ]
  },
  {
   "cell_type": "code",
   "execution_count": null,
   "metadata": {},
   "outputs": [],
   "source": [
    "\n"
   ]
  },
  {
   "cell_type": "code",
   "execution_count": null,
   "metadata": {},
   "outputs": [],
   "source": []
  }
 ],
 "metadata": {
  "kernelspec": {
   "display_name": "Python 3",
   "language": "python",
   "name": "python3"
  },
  "language_info": {
   "codemirror_mode": {
    "name": "ipython",
    "version": 3
   },
   "file_extension": ".py",
   "mimetype": "text/x-python",
   "name": "python",
   "nbconvert_exporter": "python",
   "pygments_lexer": "ipython3",
   "version": "3.8.5"
  }
 },
 "nbformat": 4,
 "nbformat_minor": 4
}
